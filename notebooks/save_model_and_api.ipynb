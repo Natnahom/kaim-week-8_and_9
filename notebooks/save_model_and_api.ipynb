{
 "cells": [
  {
   "cell_type": "code",
   "execution_count": 2,
   "metadata": {},
   "outputs": [
    {
     "ename": "ModuleNotFoundError",
     "evalue": "No module named 'scripts.save_model'",
     "output_type": "error",
     "traceback": [
      "\u001b[1;31m---------------------------------------------------------------------------\u001b[0m",
      "\u001b[1;31mModuleNotFoundError\u001b[0m                       Traceback (most recent call last)",
      "Cell \u001b[1;32mIn[2], line 1\u001b[0m\n\u001b[1;32m----> 1\u001b[0m \u001b[38;5;28;01mfrom\u001b[39;00m\u001b[38;5;250m \u001b[39m\u001b[38;5;21;01mscripts\u001b[39;00m\u001b[38;5;21;01m.\u001b[39;00m\u001b[38;5;21;01msave_model\u001b[39;00m\u001b[38;5;250m \u001b[39m\u001b[38;5;28;01mimport\u001b[39;00m \u001b[38;5;241m*\u001b[39m\n\u001b[0;32m      2\u001b[0m \u001b[38;5;66;03m# from scripts.load_data import *\u001b[39;00m\n\u001b[0;32m      3\u001b[0m \u001b[38;5;66;03m# from scripts.data_preparation import *\u001b[39;00m\n\u001b[0;32m      4\u001b[0m \u001b[38;5;66;03m# from scripts.training_and_evaluation import define_models, evaluate_models\u001b[39;00m\n",
      "\u001b[1;31mModuleNotFoundError\u001b[0m: No module named 'scripts.save_model'"
     ]
    }
   ],
   "source": [
    "from scripts.save_model import *\n",
    "# from scripts.load_data import *\n",
    "# from scripts.data_preparation import *\n",
    "# from scripts.training_and_evaluation import define_models, evaluate_models"
   ]
  },
  {
   "cell_type": "code",
   "execution_count": null,
   "metadata": {},
   "outputs": [],
   "source": [
    "fra_data_path = '../../Data/Fraud_Data.csv'\n",
    "# IpAd_data_path = '../../Data/IpAddress_to_Country.csv'\n",
    "cred_data_path = '../../Data/creditcard.csv/creditcard.csv'\n",
    "\n",
    "loaded_data_fra = load_data(fra_data_path)\n",
    "loaded_data_cred = load_data(cred_data_path)\n",
    "\n",
    "loaded_data_fra.head(5)\n",
    "# loaded_data_cred.head(5)\n"
   ]
  },
  {
   "cell_type": "code",
   "execution_count": null,
   "metadata": {},
   "outputs": [],
   "source": [
    "# Sample only 5000 rows for training\n",
    "df_fraud_sampled = loaded_data_fra.sample(n=5000, random_state=42)\n",
    "df_cred_sampled = loaded_data_cred.sample(n=5000, random_state=42)\n",
    "df_fraud_sampled"
   ]
  },
  {
   "cell_type": "code",
   "execution_count": null,
   "metadata": {},
   "outputs": [],
   "source": [
    "# Prepare data\n",
    "X_train_fraud, X_test_fraud, y_train_fraud, y_test_fraud = data_preparation(df_fraud_sampled)\n",
    "X_train_cc, X_test_cc, y_train_cc, y_test_cc = data_preparation(df_cred_sampled)"
   ]
  },
  {
   "cell_type": "code",
   "execution_count": null,
   "metadata": {},
   "outputs": [],
   "source": [
    "# Define models\n",
    "models = define_models()"
   ]
  },
  {
   "cell_type": "code",
   "execution_count": null,
   "metadata": {},
   "outputs": [],
   "source": [
    "# Evaluate models\n",
    "results1 = evaluate_models(X_train_fraud, y_train_fraud, X_test_fraud, y_test_fraud, models)\n",
    "\n",
    "# Print evaluation results\n",
    "for model_name, metrics in results1.items():\n",
    "    trained_model1 = metrics['model']"
   ]
  },
  {
   "cell_type": "code",
   "execution_count": null,
   "metadata": {},
   "outputs": [],
   "source": [
    "\n",
    "# Evaluate models\n",
    "results2 = evaluate_models(X_train_cc, y_train_cc, X_test_cc, y_test_cc, models)\n",
    "\n",
    "# Print evaluation results\n",
    "for model_name, metrics in results2.items():\n",
    "    trained_model2 = metrics['model']"
   ]
  }
 ],
 "metadata": {
  "kernelspec": {
   "display_name": ".myvenv8",
   "language": "python",
   "name": "python3"
  },
  "language_info": {
   "codemirror_mode": {
    "name": "ipython",
    "version": 3
   },
   "file_extension": ".py",
   "mimetype": "text/x-python",
   "name": "python",
   "nbconvert_exporter": "python",
   "pygments_lexer": "ipython3",
   "version": "3.9.13"
  }
 },
 "nbformat": 4,
 "nbformat_minor": 2
}
